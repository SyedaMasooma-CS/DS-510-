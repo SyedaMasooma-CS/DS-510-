{
 "cells": [
  {
   "cell_type": "markdown",
   "id": "542ff7bb",
   "metadata": {},
   "source": [
    "# Final Project"
   ]
  },
  {
   "cell_type": "markdown",
   "id": "165a31b8",
   "metadata": {},
   "source": [
    "### Data Collection\n",
    "Data Sources:\n",
    "1. Yahoo Finance Library\n",
    "    \n",
    "    Collected from yfinance library\n",
    "    \n",
    "    Stock Market Indicators Data\n",
    "\n",
    "\n",
    "2. Federal Reserve Economic Data\n",
    "    \n",
    "    Collected using Api Key from https://fred.stlouisfed.org/docs/api/fred/\n",
    "    \n",
    "    Interest Rate Data"
   ]
  },
  {
   "cell_type": "code",
   "execution_count": 14,
   "id": "2fe50ac3",
   "metadata": {},
   "outputs": [
    {
     "name": "stdout",
     "output_type": "stream",
     "text": [
      "[*********************100%***********************]  1 of 1 completed\n",
      "[*********************100%***********************]  1 of 1 completed\n",
      "[*********************100%***********************]  1 of 1 completed\n",
      "[*********************100%***********************]  1 of 1 completed\n"
     ]
    }
   ],
   "source": [
    "import yfinance as yf  ## Importing Stock Data From Yahoo Finance\n",
    "aapl = yf.download(tickers='AAPL', period='1000d', interval='1d',inplace=True)  # Apple\n",
    "google  = yf.download(tickers='GOOG',  period='1000d', interval='1d',inplace=True)  # Google\n",
    "amazon  = yf.download(tickers='AMZN',  period='1000d', interval='1d',inplace=True)  # Amazon\n",
    "tesla  = yf.download(tickers='TSLA',  period='1000d', interval='1d',inplace=True) #TESLA"
   ]
  },
  {
   "cell_type": "code",
   "execution_count": null,
   "id": "43732306",
   "metadata": {},
   "outputs": [],
   "source": [
    "from fredapi import Fred     ## Importing Data From Fred\n",
    "fred = Fred(api_key='0e8891afccdf0b465cf8915bc862e116')\n",
    "data = fred.get_series('DFF')"
   ]
  },
  {
   "cell_type": "code",
   "execution_count": 13,
   "id": "43e616fe",
   "metadata": {},
   "outputs": [],
   "source": [
    "import warnings\n",
    "warnings.simplefilter(action='ignore', category=FutureWarning)"
   ]
  }
 ],
 "metadata": {
  "kernelspec": {
   "display_name": "Python 3 (ipykernel)",
   "language": "python",
   "name": "python3"
  },
  "language_info": {
   "codemirror_mode": {
    "name": "ipython",
    "version": 3
   },
   "file_extension": ".py",
   "mimetype": "text/x-python",
   "name": "python",
   "nbconvert_exporter": "python",
   "pygments_lexer": "ipython3",
   "version": "3.8.13"
  }
 },
 "nbformat": 4,
 "nbformat_minor": 5
}
